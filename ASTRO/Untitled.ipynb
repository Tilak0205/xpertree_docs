{
 "cells": [
  {
   "cell_type": "code",
   "execution_count": 1,
   "id": "8fe1bf54",
   "metadata": {},
   "outputs": [],
   "source": [
    "import pandas as pd"
   ]
  },
  {
   "cell_type": "code",
   "execution_count": 2,
   "id": "fbf513c7",
   "metadata": {},
   "outputs": [],
   "source": [
    "tt = pd.ExcelFile('ASTRO_2019.xlsx').parse('Sheet1')\n",
    "sub=tt['Presentation']\n",
    "names=tt['Presenter']"
   ]
  },
  {
   "cell_type": "code",
   "execution_count": 63,
   "id": "dab104a2",
   "metadata": {},
   "outputs": [],
   "source": [
    "Qual=[]\n",
    "name=[]"
   ]
  },
  {
   "cell_type": "code",
   "execution_count": 64,
   "id": "458db0da",
   "metadata": {},
   "outputs": [],
   "source": [
    "for i in range(len(names)):\n",
    "    if(type(names[i])!=float):\n",
    "        if(',' in names[i]):\n",
    "            Qual.append(names[i].split(',',1)[1])\n",
    "            name.append(names[i].split(',',1)[0])\n",
    "        else:\n",
    "            Qual.append('')\n",
    "            name.append(names[i])\n",
    "    else:\n",
    "        Qual.append('')\n",
    "        name.append(names[i])"
   ]
  },
  {
   "cell_type": "code",
   "execution_count": 65,
   "id": "bf422fae",
   "metadata": {},
   "outputs": [
    {
     "data": {
      "text/plain": [
       "3169"
      ]
     },
     "execution_count": 65,
     "metadata": {},
     "output_type": "execute_result"
    }
   ],
   "source": [
    "len(Qual)"
   ]
  },
  {
   "cell_type": "code",
   "execution_count": null,
   "id": "54fb265d",
   "metadata": {},
   "outputs": [],
   "source": []
  },
  {
   "cell_type": "code",
   "execution_count": null,
   "id": "4470219e",
   "metadata": {},
   "outputs": [],
   "source": []
  },
  {
   "cell_type": "code",
   "execution_count": 67,
   "id": "bd16c2cc",
   "metadata": {},
   "outputs": [],
   "source": [
    "Initial=[]\n",
    "First=[]\n",
    "Middle=[]\n",
    "Last=[]"
   ]
  },
  {
   "cell_type": "code",
   "execution_count": 68,
   "id": "8fb23211",
   "metadata": {},
   "outputs": [],
   "source": [
    "def NameDivider(Name):\n",
    "    inti=\"\"\n",
    "    first=\"\"\n",
    "    last=\"\"\n",
    "    midd=[]\n",
    "    temp=str(Name).split(\" \")\n",
    "    for i in range(len(temp)):\n",
    "        if(len(temp[i])==2 and i==1):\n",
    "            if(temp[i][1]=='.'):\n",
    "                inti=temp[i][0]\n",
    "            continue\n",
    "        if(i==0):\n",
    "           first=temp[i]\n",
    "           continue\n",
    "        if(i==len(temp)-1):\n",
    "           last=temp[i]\n",
    "           continue\n",
    "        else:\n",
    "           midd.append(temp[i])\n",
    "    if(midd==[]):\n",
    "           mid=\"\"\n",
    "    if(midd!=[]):\n",
    "           mid=\" \".join(midd)\n",
    "    return inti,first,mid,last\n",
    "\n",
    "\n",
    "for j in range(len(name)):\n",
    "    inti,first,mid,lst=NameDivider(names[j])\n",
    "    Initial.append(inti)\n",
    "    First.append(first)\n",
    "    Middle.append(mid)\n",
    "    Last.append(lst)"
   ]
  },
  {
   "cell_type": "code",
   "execution_count": 69,
   "id": "640ed793",
   "metadata": {},
   "outputs": [],
   "source": [
    "search=['Gadolinium',\n",
    "'MRI+Contrast Agent',\n",
    "'Focal liver lesions',\n",
    "'Liver metastases',\n",
    "'Nephrogenic Systemic Fibrosis',\n",
    "'Colorectal Cancer+Liver Metastasis'\n",
    "'Breast Cancer+Liver Metastasis',\n",
    "'Lung Cancer+Liver Metastatsis',\n",
    "'Gastric Cancer+Liver Metastasis',\n",
    "'Primary Liver Cancer',\n",
    "'Gadolinium toxicity',\n",
    "'Gadolinium deposition']"
   ]
  },
  {
   "cell_type": "code",
   "execution_count": 70,
   "id": "d60e1997",
   "metadata": {},
   "outputs": [],
   "source": [
    "s_ele=[]\n",
    "found=[]"
   ]
  },
  {
   "cell_type": "code",
   "execution_count": 71,
   "id": "4e81330d",
   "metadata": {},
   "outputs": [],
   "source": [
    "for i in range(len(sub)):\n",
    "    f=-1\n",
    "    for j in range(len(search)):\n",
    "        if(('+' not in search[j]) and (type(sub[i])!=float)):\n",
    "            if(search[j].lower() in sub[i].lower()):\n",
    "                f=j\n",
    "        else:\n",
    "            if(type(sub[i])!=float):\n",
    "                temp=search[j].split('+')\n",
    "                if((temp[0] in sub[i].lower()) and (temp[1] in sub[i].lower())):\n",
    "                    f=j\n",
    "    if(f!=-1):\n",
    "        s_ele.append(search[j])\n",
    "        found.append('Found')\n",
    "    else:\n",
    "        s_ele.append('No search term')\n",
    "        found.append('Not found')"
   ]
  },
  {
   "cell_type": "code",
   "execution_count": 74,
   "id": "9e4ad81f",
   "metadata": {},
   "outputs": [],
   "source": [
    "bt=pd.DataFrame()\n",
    "bt['Session ST']=found\n",
    "bt['InSession']=s_ele\n",
    "# bt['Abstract ST']=ab_found\n",
    "# bt['InAbstract']=ab_s_ele\n",
    "bt['Initial']=Initial\n",
    "bt['First Name']=First\n",
    "bt['Middle Name']=Middle\n",
    "bt['Last Name']=Last\n",
    "bt['Qualification']=Qual\n",
    "bt['Names']=name"
   ]
  },
  {
   "cell_type": "code",
   "execution_count": 75,
   "id": "08b56349",
   "metadata": {},
   "outputs": [],
   "source": [
    "bt.to_excel('search_terms_2019.xlsx')"
   ]
  },
  {
   "cell_type": "code",
   "execution_count": null,
   "id": "0d9be5f0",
   "metadata": {},
   "outputs": [],
   "source": []
  }
 ],
 "metadata": {
  "kernelspec": {
   "display_name": "Python 3 (ipykernel)",
   "language": "python",
   "name": "python3"
  },
  "language_info": {
   "codemirror_mode": {
    "name": "ipython",
    "version": 3
   },
   "file_extension": ".py",
   "mimetype": "text/x-python",
   "name": "python",
   "nbconvert_exporter": "python",
   "pygments_lexer": "ipython3",
   "version": "3.9.12"
  }
 },
 "nbformat": 4,
 "nbformat_minor": 5
}
